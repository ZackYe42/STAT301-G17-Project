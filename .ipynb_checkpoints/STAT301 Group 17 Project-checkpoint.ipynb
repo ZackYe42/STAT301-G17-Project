{
 "cells": [
  {
   "cell_type": "code",
   "execution_count": 1,
   "id": "5663989e",
   "metadata": {},
   "outputs": [
    {
     "name": "stderr",
     "output_type": "stream",
     "text": [
      "Warning message:\n",
      "\"package 'ggplot2' was built under R version 4.3.1\"\n",
      "Warning message:\n",
      "\"package 'purrr' was built under R version 4.3.1\"\n",
      "Warning message:\n",
      "\"package 'dplyr' was built under R version 4.3.1\"\n",
      "── \u001b[1mAttaching core tidyverse packages\u001b[22m ──────────────────────────────────────────────────────────────── tidyverse 2.0.0 ──\n",
      "\u001b[32m✔\u001b[39m \u001b[34mdplyr    \u001b[39m 1.1.3     \u001b[32m✔\u001b[39m \u001b[34mreadr    \u001b[39m 2.1.4\n",
      "\u001b[32m✔\u001b[39m \u001b[34mforcats  \u001b[39m 1.0.0     \u001b[32m✔\u001b[39m \u001b[34mstringr  \u001b[39m 1.5.0\n",
      "\u001b[32m✔\u001b[39m \u001b[34mggplot2  \u001b[39m 3.4.3     \u001b[32m✔\u001b[39m \u001b[34mtibble   \u001b[39m 3.2.1\n",
      "\u001b[32m✔\u001b[39m \u001b[34mlubridate\u001b[39m 1.9.2     \u001b[32m✔\u001b[39m \u001b[34mtidyr    \u001b[39m 1.3.0\n",
      "\u001b[32m✔\u001b[39m \u001b[34mpurrr    \u001b[39m 1.0.2     \n",
      "── \u001b[1mConflicts\u001b[22m ────────────────────────────────────────────────────────────────────────────────── tidyverse_conflicts() ──\n",
      "\u001b[31m✖\u001b[39m \u001b[34mdplyr\u001b[39m::\u001b[32mfilter()\u001b[39m masks \u001b[34mstats\u001b[39m::filter()\n",
      "\u001b[31m✖\u001b[39m \u001b[34mdplyr\u001b[39m::\u001b[32mlag()\u001b[39m    masks \u001b[34mstats\u001b[39m::lag()\n",
      "\u001b[36mℹ\u001b[39m Use the conflicted package (\u001b[3m\u001b[34m<http://conflicted.r-lib.org/>\u001b[39m\u001b[23m) to force all conflicts to become errors\n",
      "Warning message:\n",
      "\"package 'tidymodels' was built under R version 4.3.2\"\n",
      "── \u001b[1mAttaching packages\u001b[22m ────────────────────────────────────────────────────────────────────────────── tidymodels 1.1.1 ──\n",
      "\n",
      "\u001b[32m✔\u001b[39m \u001b[34mbroom       \u001b[39m 1.0.5     \u001b[32m✔\u001b[39m \u001b[34mrsample     \u001b[39m 1.2.0\n",
      "\u001b[32m✔\u001b[39m \u001b[34mdials       \u001b[39m 1.2.0     \u001b[32m✔\u001b[39m \u001b[34mtune        \u001b[39m 1.1.2\n",
      "\u001b[32m✔\u001b[39m \u001b[34minfer       \u001b[39m 1.0.4     \u001b[32m✔\u001b[39m \u001b[34mworkflows   \u001b[39m 1.1.3\n",
      "\u001b[32m✔\u001b[39m \u001b[34mmodeldata   \u001b[39m 1.2.0     \u001b[32m✔\u001b[39m \u001b[34mworkflowsets\u001b[39m 1.0.1\n",
      "\u001b[32m✔\u001b[39m \u001b[34mparsnip     \u001b[39m 1.1.1     \u001b[32m✔\u001b[39m \u001b[34myardstick   \u001b[39m 1.2.0\n",
      "\u001b[32m✔\u001b[39m \u001b[34mrecipes     \u001b[39m 1.0.8     \n",
      "\n",
      "Warning message:\n",
      "\"package 'broom' was built under R version 4.3.1\"\n",
      "Warning message:\n",
      "\"package 'dials' was built under R version 4.3.2\"\n",
      "Warning message:\n",
      "\"package 'infer' was built under R version 4.3.1\"\n",
      "Warning message:\n",
      "\"package 'modeldata' was built under R version 4.3.2\"\n",
      "Warning message:\n",
      "\"package 'parsnip' was built under R version 4.3.2\"\n",
      "Warning message:\n",
      "\"package 'recipes' was built under R version 4.3.1\"\n",
      "Warning message:\n",
      "\"package 'rsample' was built under R version 4.3.2\"\n",
      "Warning message:\n",
      "\"package 'tune' was built under R version 4.3.2\"\n",
      "Warning message:\n",
      "\"package 'workflows' was built under R version 4.3.2\"\n",
      "Warning message:\n",
      "\"package 'workflowsets' was built under R version 4.3.2\"\n",
      "Warning message:\n",
      "\"package 'yardstick' was built under R version 4.3.2\"\n",
      "── \u001b[1mConflicts\u001b[22m ───────────────────────────────────────────────────────────────────────────────── tidymodels_conflicts() ──\n",
      "\u001b[31m✖\u001b[39m \u001b[34mscales\u001b[39m::\u001b[32mdiscard()\u001b[39m masks \u001b[34mpurrr\u001b[39m::discard()\n",
      "\u001b[31m✖\u001b[39m \u001b[34mdplyr\u001b[39m::\u001b[32mfilter()\u001b[39m   masks \u001b[34mstats\u001b[39m::filter()\n",
      "\u001b[31m✖\u001b[39m \u001b[34mrecipes\u001b[39m::\u001b[32mfixed()\u001b[39m  masks \u001b[34mstringr\u001b[39m::fixed()\n",
      "\u001b[31m✖\u001b[39m \u001b[34mdplyr\u001b[39m::\u001b[32mlag()\u001b[39m      masks \u001b[34mstats\u001b[39m::lag()\n",
      "\u001b[31m✖\u001b[39m \u001b[34myardstick\u001b[39m::\u001b[32mspec()\u001b[39m masks \u001b[34mreadr\u001b[39m::spec()\n",
      "\u001b[31m✖\u001b[39m \u001b[34mrecipes\u001b[39m::\u001b[32mstep()\u001b[39m   masks \u001b[34mstats\u001b[39m::step()\n",
      "\u001b[34m•\u001b[39m Use suppressPackageStartupMessages() to eliminate package startup messages\n",
      "\n",
      "Warning message:\n",
      "\"package 'GGally' was built under R version 4.3.1\"\n",
      "Registered S3 method overwritten by 'GGally':\n",
      "  method from   \n",
      "  +.gg   ggplot2\n",
      "\n",
      "Warning message:\n",
      "\"package 'repr' was built under R version 4.3.1\"\n",
      "Warning message:\n",
      "\"package 'leaps' was built under R version 4.3.1\"\n",
      "Warning message:\n",
      "\"package 'psych' was built under R version 4.3.2\"\n",
      "\n",
      "Attaching package: 'psych'\n",
      "\n",
      "\n",
      "The following objects are masked from 'package:scales':\n",
      "\n",
      "    alpha, rescale\n",
      "\n",
      "\n",
      "The following objects are masked from 'package:ggplot2':\n",
      "\n",
      "    %+%, alpha\n",
      "\n",
      "\n",
      "Warning message:\n",
      "\"package 'glmnet' was built under R version 4.3.1\"\n",
      "Loading required package: Matrix\n",
      "\n",
      "\n",
      "Attaching package: 'Matrix'\n",
      "\n",
      "\n",
      "The following objects are masked from 'package:tidyr':\n",
      "\n",
      "    expand, pack, unpack\n",
      "\n",
      "\n",
      "Loaded glmnet 4.1-8\n",
      "\n"
     ]
    }
   ],
   "source": [
    "# Library load\n",
    "library(tidyverse)\n",
    "library(tidymodels)\n",
    "library(\"GGally\")\n",
    "library(repr)\n",
    "library(leaps)\n",
    "library(psych)\n",
    "library(infer)\n",
    "library(leaps)\n",
    "library(glmnet)"
   ]
  },
  {
   "cell_type": "markdown",
   "id": "b1910f9f",
   "metadata": {},
   "source": [
    "# Code Part"
   ]
  },
  {
   "cell_type": "markdown",
   "id": "7eec7c7b",
   "metadata": {},
   "source": [
    "## Preprocess Data"
   ]
  },
  {
   "cell_type": "markdown",
   "id": "7fc0f894",
   "metadata": {},
   "source": [
    "### Read data to local\n"
   ]
  },
  {
   "cell_type": "code",
   "execution_count": 3,
   "id": "0840a98b",
   "metadata": {},
   "outputs": [
    {
     "data": {
      "text/html": [
       "<table class=\"dataframe\">\n",
       "<caption>A data.frame: 3 × 8</caption>\n",
       "<thead>\n",
       "\t<tr><th></th><th scope=col>Amount</th><th scope=col>Severity</th><th scope=col>Age</th><th scope=col>Private.Attorney</th><th scope=col>Marital.Status</th><th scope=col>Specialty</th><th scope=col>Insurance</th><th scope=col>Gender</th></tr>\n",
       "\t<tr><th></th><th scope=col>&lt;int&gt;</th><th scope=col>&lt;int&gt;</th><th scope=col>&lt;int&gt;</th><th scope=col>&lt;int&gt;</th><th scope=col>&lt;int&gt;</th><th scope=col>&lt;chr&gt;</th><th scope=col>&lt;chr&gt;</th><th scope=col>&lt;chr&gt;</th></tr>\n",
       "</thead>\n",
       "<tbody>\n",
       "\t<tr><th scope=row>1</th><td> 57041</td><td>7</td><td>62</td><td>1</td><td>2</td><td>Family Practice</td><td>Private     </td><td>Male  </td></tr>\n",
       "\t<tr><th scope=row>2</th><td>324976</td><td>6</td><td>38</td><td>1</td><td>2</td><td>OBGYN          </td><td>No Insurance</td><td>Female</td></tr>\n",
       "\t<tr><th scope=row>3</th><td>135383</td><td>4</td><td>34</td><td>1</td><td>2</td><td>Cardiology     </td><td>Unknown     </td><td>Male  </td></tr>\n",
       "</tbody>\n",
       "</table>\n"
      ],
      "text/latex": [
       "A data.frame: 3 × 8\n",
       "\\begin{tabular}{r|llllllll}\n",
       "  & Amount & Severity & Age & Private.Attorney & Marital.Status & Specialty & Insurance & Gender\\\\\n",
       "  & <int> & <int> & <int> & <int> & <int> & <chr> & <chr> & <chr>\\\\\n",
       "\\hline\n",
       "\t1 &  57041 & 7 & 62 & 1 & 2 & Family Practice & Private      & Male  \\\\\n",
       "\t2 & 324976 & 6 & 38 & 1 & 2 & OBGYN           & No Insurance & Female\\\\\n",
       "\t3 & 135383 & 4 & 34 & 1 & 2 & Cardiology      & Unknown      & Male  \\\\\n",
       "\\end{tabular}\n"
      ],
      "text/markdown": [
       "\n",
       "A data.frame: 3 × 8\n",
       "\n",
       "| <!--/--> | Amount &lt;int&gt; | Severity &lt;int&gt; | Age &lt;int&gt; | Private.Attorney &lt;int&gt; | Marital.Status &lt;int&gt; | Specialty &lt;chr&gt; | Insurance &lt;chr&gt; | Gender &lt;chr&gt; |\n",
       "|---|---|---|---|---|---|---|---|---|\n",
       "| 1 |  57041 | 7 | 62 | 1 | 2 | Family Practice | Private      | Male   |\n",
       "| 2 | 324976 | 6 | 38 | 1 | 2 | OBGYN           | No Insurance | Female |\n",
       "| 3 | 135383 | 4 | 34 | 1 | 2 | Cardiology      | Unknown      | Male   |\n",
       "\n"
      ],
      "text/plain": [
       "  Amount Severity Age Private.Attorney Marital.Status Specialty      \n",
       "1  57041 7        62  1                2              Family Practice\n",
       "2 324976 6        38  1                2              OBGYN          \n",
       "3 135383 4        34  1                2              Cardiology     \n",
       "  Insurance    Gender\n",
       "1 Private      Male  \n",
       "2 No Insurance Female\n",
       "3 Unknown      Male  "
      ]
     },
     "metadata": {},
     "output_type": "display_data"
    }
   ],
   "source": [
    "df <- read.csv(\"https://raw.githubusercontent.com/ZackYe42/STAT301-GroupProject/main/medicalmalpractice.csv\", header = T)\n",
    "head(df,3)"
   ]
  },
  {
   "cell_type": "markdown",
   "id": "744260f5",
   "metadata": {},
   "source": [
    "### Clean and Convert"
   ]
  },
  {
   "cell_type": "code",
   "execution_count": 5,
   "id": "dc25ffd1",
   "metadata": {},
   "outputs": [
    {
     "data": {
      "text/html": [
       "<table class=\"dataframe\">\n",
       "<caption>A data.frame: 3 × 7</caption>\n",
       "<thead>\n",
       "\t<tr><th></th><th scope=col>Amount</th><th scope=col>Severity</th><th scope=col>Age</th><th scope=col>Private.Attorney</th><th scope=col>Specialty</th><th scope=col>Gender</th><th scope=col>Insurance_Status</th></tr>\n",
       "\t<tr><th></th><th scope=col>&lt;int&gt;</th><th scope=col>&lt;int&gt;</th><th scope=col>&lt;int&gt;</th><th scope=col>&lt;int&gt;</th><th scope=col>&lt;fct&gt;</th><th scope=col>&lt;fct&gt;</th><th scope=col>&lt;dbl&gt;</th></tr>\n",
       "</thead>\n",
       "<tbody>\n",
       "\t<tr><th scope=row>1</th><td> 57041</td><td>7</td><td>62</td><td>1</td><td>Primary Care        </td><td>Male  </td><td>1</td></tr>\n",
       "\t<tr><th scope=row>2</th><td>324976</td><td>6</td><td>38</td><td>1</td><td>Surgical Specialties</td><td>Female</td><td>0</td></tr>\n",
       "\t<tr><th scope=row>3</th><td>135383</td><td>4</td><td>34</td><td>1</td><td>Medical Specialties </td><td>Male  </td><td>0</td></tr>\n",
       "</tbody>\n",
       "</table>\n"
      ],
      "text/latex": [
       "A data.frame: 3 × 7\n",
       "\\begin{tabular}{r|lllllll}\n",
       "  & Amount & Severity & Age & Private.Attorney & Specialty & Gender & Insurance\\_Status\\\\\n",
       "  & <int> & <int> & <int> & <int> & <fct> & <fct> & <dbl>\\\\\n",
       "\\hline\n",
       "\t1 &  57041 & 7 & 62 & 1 & Primary Care         & Male   & 1\\\\\n",
       "\t2 & 324976 & 6 & 38 & 1 & Surgical Specialties & Female & 0\\\\\n",
       "\t3 & 135383 & 4 & 34 & 1 & Medical Specialties  & Male   & 0\\\\\n",
       "\\end{tabular}\n"
      ],
      "text/markdown": [
       "\n",
       "A data.frame: 3 × 7\n",
       "\n",
       "| <!--/--> | Amount &lt;int&gt; | Severity &lt;int&gt; | Age &lt;int&gt; | Private.Attorney &lt;int&gt; | Specialty &lt;fct&gt; | Gender &lt;fct&gt; | Insurance_Status &lt;dbl&gt; |\n",
       "|---|---|---|---|---|---|---|---|\n",
       "| 1 |  57041 | 7 | 62 | 1 | Primary Care         | Male   | 1 |\n",
       "| 2 | 324976 | 6 | 38 | 1 | Surgical Specialties | Female | 0 |\n",
       "| 3 | 135383 | 4 | 34 | 1 | Medical Specialties  | Male   | 0 |\n",
       "\n"
      ],
      "text/plain": [
       "  Amount Severity Age Private.Attorney Specialty            Gender\n",
       "1  57041 7        62  1                Primary Care         Male  \n",
       "2 324976 6        38  1                Surgical Specialties Female\n",
       "3 135383 4        34  1                Medical Specialties  Male  \n",
       "  Insurance_Status\n",
       "1 1               \n",
       "2 0               \n",
       "3 0               "
      ]
     },
     "metadata": {},
     "output_type": "display_data"
    }
   ],
   "source": [
    "df1 <- df %>%\n",
    "    select(-Marital.Status) %>% \n",
    "    mutate(\n",
    "        Specialty = case_when(\n",
    "        Specialty %in% c(\"Family Practice\", \"Internal Medicine\", \"Pediatrics\") ~ \"Primary Care\",\n",
    "        Specialty %in% c(\"General Surgery\", \"Orthopedic Surgery\", \"Thoracic Surgery\", \n",
    "                         \"Urological Surgery\", \"Plastic Surgeon\", \"OBGYN\") ~ \"Surgical Specialties\",\n",
    "        Specialty %in% c(\"Cardiology\", \"Dermatology\", \"Neurology/Neurosurgery\",\n",
    "                         \"Anesthesiology\", \"Pathology\", \"Radiology\") ~ \"Medical Specialties\",\n",
    "        Specialty %in% c(\"Emergency Medicine\", \"Occupational Medicine\") ~ \"Emergency and Occupational Health\",\n",
    "        TRUE ~ \"Other Specialties\"\n",
    "        )  \n",
    "    )  %>% \n",
    "    mutate(\n",
    "        Insurance_Status = ifelse(Insurance %in% c('Private','Medicare/Medicaid','Workers Compensation'),\n",
    "                                  1,\n",
    "                                  0)\n",
    "        ) %>%\n",
    "    select(-Insurance)\n",
    "\n",
    "df1$Specialty  <- as.factor(df1$Specialty)\n",
    "df1$Gender <- as.factor(df1$Gender)\n",
    "\n",
    "head(df1,3)"
   ]
  },
  {
   "cell_type": "markdown",
   "id": "e973d731",
   "metadata": {},
   "source": [
    "### Convert the category variable to dummy variable"
   ]
  },
  {
   "cell_type": "code",
   "execution_count": 10,
   "id": "45407fcc",
   "metadata": {},
   "outputs": [
    {
     "data": {
      "text/html": [
       "<table class=\"dataframe\">\n",
       "<caption>A data.frame: 6 × 10</caption>\n",
       "<thead>\n",
       "\t<tr><th></th><th scope=col>Amount</th><th scope=col>Severity</th><th scope=col>Age</th><th scope=col>Private.Attorney</th><th scope=col>SpecialtyMedical.Specialties</th><th scope=col>SpecialtyOther.Specialties</th><th scope=col>SpecialtyPrimary.Care</th><th scope=col>SpecialtySurgical.Specialties</th><th scope=col>GenderMale</th><th scope=col>Insurance_Status</th></tr>\n",
       "\t<tr><th></th><th scope=col>&lt;dbl&gt;</th><th scope=col>&lt;dbl&gt;</th><th scope=col>&lt;dbl&gt;</th><th scope=col>&lt;dbl&gt;</th><th scope=col>&lt;dbl&gt;</th><th scope=col>&lt;dbl&gt;</th><th scope=col>&lt;dbl&gt;</th><th scope=col>&lt;dbl&gt;</th><th scope=col>&lt;dbl&gt;</th><th scope=col>&lt;dbl&gt;</th></tr>\n",
       "</thead>\n",
       "<tbody>\n",
       "\t<tr><th scope=row>1</th><td> 57041</td><td>7</td><td>62</td><td>1</td><td>0</td><td>0</td><td>1</td><td>0</td><td>1</td><td>1</td></tr>\n",
       "\t<tr><th scope=row>2</th><td>324976</td><td>6</td><td>38</td><td>1</td><td>0</td><td>0</td><td>0</td><td>1</td><td>0</td><td>0</td></tr>\n",
       "\t<tr><th scope=row>3</th><td>135383</td><td>4</td><td>34</td><td>1</td><td>1</td><td>0</td><td>0</td><td>0</td><td>1</td><td>0</td></tr>\n",
       "\t<tr><th scope=row>4</th><td>829742</td><td>7</td><td>42</td><td>1</td><td>0</td><td>0</td><td>1</td><td>0</td><td>0</td><td>0</td></tr>\n",
       "\t<tr><th scope=row>5</th><td>197675</td><td>3</td><td>60</td><td>0</td><td>0</td><td>0</td><td>0</td><td>1</td><td>0</td><td>1</td></tr>\n",
       "\t<tr><th scope=row>6</th><td> 75368</td><td>9</td><td>71</td><td>1</td><td>0</td><td>0</td><td>1</td><td>0</td><td>0</td><td>1</td></tr>\n",
       "</tbody>\n",
       "</table>\n"
      ],
      "text/latex": [
       "A data.frame: 6 × 10\n",
       "\\begin{tabular}{r|llllllllll}\n",
       "  & Amount & Severity & Age & Private.Attorney & SpecialtyMedical.Specialties & SpecialtyOther.Specialties & SpecialtyPrimary.Care & SpecialtySurgical.Specialties & GenderMale & Insurance\\_Status\\\\\n",
       "  & <dbl> & <dbl> & <dbl> & <dbl> & <dbl> & <dbl> & <dbl> & <dbl> & <dbl> & <dbl>\\\\\n",
       "\\hline\n",
       "\t1 &  57041 & 7 & 62 & 1 & 0 & 0 & 1 & 0 & 1 & 1\\\\\n",
       "\t2 & 324976 & 6 & 38 & 1 & 0 & 0 & 0 & 1 & 0 & 0\\\\\n",
       "\t3 & 135383 & 4 & 34 & 1 & 1 & 0 & 0 & 0 & 1 & 0\\\\\n",
       "\t4 & 829742 & 7 & 42 & 1 & 0 & 0 & 1 & 0 & 0 & 0\\\\\n",
       "\t5 & 197675 & 3 & 60 & 0 & 0 & 0 & 0 & 1 & 0 & 1\\\\\n",
       "\t6 &  75368 & 9 & 71 & 1 & 0 & 0 & 1 & 0 & 0 & 1\\\\\n",
       "\\end{tabular}\n"
      ],
      "text/markdown": [
       "\n",
       "A data.frame: 6 × 10\n",
       "\n",
       "| <!--/--> | Amount &lt;dbl&gt; | Severity &lt;dbl&gt; | Age &lt;dbl&gt; | Private.Attorney &lt;dbl&gt; | SpecialtyMedical.Specialties &lt;dbl&gt; | SpecialtyOther.Specialties &lt;dbl&gt; | SpecialtyPrimary.Care &lt;dbl&gt; | SpecialtySurgical.Specialties &lt;dbl&gt; | GenderMale &lt;dbl&gt; | Insurance_Status &lt;dbl&gt; |\n",
       "|---|---|---|---|---|---|---|---|---|---|---|\n",
       "| 1 |  57041 | 7 | 62 | 1 | 0 | 0 | 1 | 0 | 1 | 1 |\n",
       "| 2 | 324976 | 6 | 38 | 1 | 0 | 0 | 0 | 1 | 0 | 0 |\n",
       "| 3 | 135383 | 4 | 34 | 1 | 1 | 0 | 0 | 0 | 1 | 0 |\n",
       "| 4 | 829742 | 7 | 42 | 1 | 0 | 0 | 1 | 0 | 0 | 0 |\n",
       "| 5 | 197675 | 3 | 60 | 0 | 0 | 0 | 0 | 1 | 0 | 1 |\n",
       "| 6 |  75368 | 9 | 71 | 1 | 0 | 0 | 1 | 0 | 0 | 1 |\n",
       "\n"
      ],
      "text/plain": [
       "  Amount Severity Age Private.Attorney SpecialtyMedical.Specialties\n",
       "1  57041 7        62  1                0                           \n",
       "2 324976 6        38  1                0                           \n",
       "3 135383 4        34  1                1                           \n",
       "4 829742 7        42  1                0                           \n",
       "5 197675 3        60  0                0                           \n",
       "6  75368 9        71  1                0                           \n",
       "  SpecialtyOther.Specialties SpecialtyPrimary.Care\n",
       "1 0                          1                    \n",
       "2 0                          0                    \n",
       "3 0                          0                    \n",
       "4 0                          1                    \n",
       "5 0                          0                    \n",
       "6 0                          1                    \n",
       "  SpecialtySurgical.Specialties GenderMale Insurance_Status\n",
       "1 0                             1          1               \n",
       "2 1                             0          0               \n",
       "3 0                             1          0               \n",
       "4 0                             0          0               \n",
       "5 1                             0          1               \n",
       "6 0                             0          1               "
      ]
     },
     "metadata": {},
     "output_type": "display_data"
    }
   ],
   "source": [
    "df1_dummy <- data.frame(model.matrix(~ . - 1, data = df1)) %>% \n",
    "    select(-SpecialtyEmergency.and.Occupational.Health) # The first one can be represent by others\n",
    "head(df1_dummy)"
   ]
  },
  {
   "cell_type": "markdown",
   "id": "0bca5b1a",
   "metadata": {},
   "source": [
    "### Split data to training and testing"
   ]
  },
  {
   "cell_type": "code",
   "execution_count": 11,
   "id": "1797e10d",
   "metadata": {},
   "outputs": [],
   "source": [
    "set.seed(42)\n",
    "\n",
    "df1_dummy_split <- initial_split(df1_dummy, prop = 0.7, strata = Amount)\n",
    "training_df <- training(df1_dummy_split)\n",
    "testing_df <- testing(df1_dummy_split)"
   ]
  },
  {
   "cell_type": "markdown",
   "id": "3262384b",
   "metadata": {},
   "source": [
    "## Visualization"
   ]
  },
  {
   "cell_type": "code",
   "execution_count": 12,
   "id": "34ad7e4e",
   "metadata": {},
   "outputs": [
    {
     "data": {
      "image/png": "[encoded data removed]",
      "text/plain": [
       "plot without title"
      ]
     },
     "metadata": {
      "image/png": {
       "height": 420,
       "width": 420
      }
     },
     "output_type": "display_data"
    }
   ],
   "source": [
    "pairs.panels(df1)"
   ]
  },
  {
   "cell_type": "code",
   "execution_count": 13,
   "id": "6ea7136c",
   "metadata": {},
   "outputs": [
    {
     "name": "stderr",
     "output_type": "stream",
     "text": [
      "\u001b[1m\u001b[22m`stat_bin()` using `bins = 30`. Pick better value with `binwidth`.\n",
      "\u001b[1m\u001b[22m`stat_bin()` using `bins = 30`. Pick better value with `binwidth`.\n",
      "\u001b[1m\u001b[22m`stat_bin()` using `bins = 30`. Pick better value with `binwidth`.\n",
      "\u001b[1m\u001b[22m`stat_bin()` using `bins = 30`. Pick better value with `binwidth`.\n",
      "\u001b[1m\u001b[22m`stat_bin()` using `bins = 30`. Pick better value with `binwidth`.\n",
      "\u001b[1m\u001b[22m`stat_bin()` using `bins = 30`. Pick better value with `binwidth`.\n",
      "\u001b[1m\u001b[22m`stat_bin()` using `bins = 30`. Pick better value with `binwidth`.\n",
      "\u001b[1m\u001b[22m`stat_bin()` using `bins = 30`. Pick better value with `binwidth`.\n",
      "\u001b[1m\u001b[22m`stat_bin()` using `bins = 30`. Pick better value with `binwidth`.\n",
      "\u001b[1m\u001b[22m`stat_bin()` using `bins = 30`. Pick better value with `binwidth`.\n"
     ]
    },
    {
     "data": {
      "image/png": "[encoded data removed]",
      "text/plain": [
       "plot without title"
      ]
     },
     "metadata": {
      "image/png": {
       "height": 420,
       "width": 420
      }
     },
     "output_type": "display_data"
    }
   ],
   "source": [
    "sample_claim_data_pairplots <- df1 %>%\n",
    "  ggpairs(progress = FALSE) +\n",
    "  theme(\n",
    "    text = element_text(size = 10),\n",
    "    plot.title = element_text(face = \"bold\"),\n",
    "    axis.title = element_text(face = \"bold\")\n",
    "  )\n",
    "sample_claim_data_pairplots"
   ]
  },
  {
   "cell_type": "markdown",
   "id": "ad7fcabc",
   "metadata": {},
   "source": [
    "## Method"
   ]
  },
  {
   "cell_type": "code",
   "execution_count": 14,
   "id": "2702f478",
   "metadata": {},
   "outputs": [
    {
     "data": {
      "text/plain": [
       "\n",
       "Call:  cv.glmnet(x = as.matrix(select(training_df, -Amount)), y = training_df$Amount,      alpha = 1) \n",
       "\n",
       "Measure: Mean-Squared Error \n",
       "\n",
       "    Lambda Index   Measure        SE Nonzero\n",
       "min    184    64 3.062e+10 258299425       9\n",
       "1se   5762    27 3.084e+10 281354087       8"
      ]
     },
     "metadata": {},
     "output_type": "display_data"
    }
   ],
   "source": [
    "# Use LASSO regression\n",
    "lasso_model <- cv.glmnet(x = as.matrix(select(training_df, -Amount)), \n",
    "                         y = training_df$Amount, \n",
    "                         alpha = 1) \n",
    "lasso_model"
   ]
  },
  {
   "cell_type": "code",
   "execution_count": 15,
   "id": "b6a564ba",
   "metadata": {},
   "outputs": [
    {
     "data": {
      "image/png": "[encoded data removed]",
      "text/plain": [
       "plot without title"
      ]
     },
     "metadata": {
      "image/png": {
       "height": 420,
       "width": 420
      }
     },
     "output_type": "display_data"
    }
   ],
   "source": [
    "plot(lasso_model)"
   ]
  },
  {
   "cell_type": "code",
   "execution_count": 16,
   "id": "995af60f",
   "metadata": {},
   "outputs": [
    {
     "data": {
      "text/plain": [
       "10 x 1 sparse Matrix of class \"dgCMatrix\"\n",
       "                                       s1\n",
       "(Intercept)                    -8708.8120\n",
       "Severity                       24438.6646\n",
       "Age                             -794.9327\n",
       "Private.Attorney               53839.3202\n",
       "SpecialtyMedical.Specialties   -9444.0879\n",
       "SpecialtyOther.Specialties    -54219.7514\n",
       "SpecialtyPrimary.Care          29577.7522\n",
       "SpecialtySurgical.Specialties   4789.8340\n",
       "GenderMale                     29063.3740\n",
       "Insurance_Status               56688.6743"
      ]
     },
     "metadata": {},
     "output_type": "display_data"
    }
   ],
   "source": [
    "# Identify the lambda value that gives the 1-standard error\n",
    "best_lasso_lambda <- lasso_model$lambda.min\n",
    "\n",
    "# Extract the coefficients for the best lambda value\n",
    "beta_lasso <- coef(lasso_model, s = best_lasso_lambda)\n",
    "beta_lasso"
   ]
  },
  {
   "cell_type": "code",
   "execution_count": 18,
   "id": "fd71e4cb",
   "metadata": {},
   "outputs": [
    {
     "data": {
      "text/plain": [
       "\n",
       "Call:\n",
       "lm(formula = Amount ~ ., data = training_df)\n",
       "\n",
       "Residuals:\n",
       "    Min      1Q  Median      3Q     Max \n",
       "-348510 -101326  -37054   37635  841497 \n",
       "\n",
       "Coefficients:\n",
       "                               Estimate Std. Error t value Pr(>|t|)    \n",
       "(Intercept)                    -9867.28    3919.06  -2.518  0.01181 *  \n",
       "Severity                       24489.52     374.81  65.338  < 2e-16 ***\n",
       "Age                             -804.96      38.73 -20.786  < 2e-16 ***\n",
       "Private.Attorney               53870.42    1720.82  31.305  < 2e-16 ***\n",
       "SpecialtyMedical.Specialties   -8907.32    3217.29  -2.769  0.00563 ** \n",
       "SpecialtyOther.Specialties    -53887.82    4005.96 -13.452  < 2e-16 ***\n",
       "SpecialtyPrimary.Care          30690.48    3304.63   9.287  < 2e-16 ***\n",
       "SpecialtySurgical.Specialties   5904.94    3176.14   1.859  0.06301 .  \n",
       "GenderMale                     29717.05    1645.95  18.055  < 2e-16 ***\n",
       "Insurance_Status               57074.08    1579.23  36.140  < 2e-16 ***\n",
       "---\n",
       "Signif. codes:  0 '***' 0.001 '**' 0.01 '*' 0.05 '.' 0.1 ' ' 1\n",
       "\n",
       "Residual standard error: 175000 on 55436 degrees of freedom\n",
       "Multiple R-squared:  0.1811,\tAdjusted R-squared:  0.181 \n",
       "F-statistic:  1362 on 9 and 55436 DF,  p-value: < 2.2e-16\n"
      ]
     },
     "metadata": {},
     "output_type": "display_data"
    }
   ],
   "source": [
    "inference_model <- lm(Amount ~ .,data = training_df)\n",
    "summary(inference_model)"
   ]
  },
  {
   "cell_type": "code",
   "execution_count": 19,
   "id": "9b0a87a1",
   "metadata": {},
   "outputs": [
    {
     "data": {
      "text/html": [
       "173804.66916352"
      ],
      "text/latex": [
       "173804.66916352"
      ],
      "text/markdown": [
       "173804.66916352"
      ],
      "text/plain": [
       "[1] 173804.7"
      ]
     },
     "metadata": {},
     "output_type": "display_data"
    }
   ],
   "source": [
    "# Predict on testing data\n",
    "est <- predict(inference_model,testing_df)\n",
    "\n",
    "# RMSE\n",
    "sqrt( mean((testing_df$Amount - est)^2))"
   ]
  },
  {
   "cell_type": "code",
   "execution_count": null,
   "id": "2136e2ad",
   "metadata": {},
   "outputs": [],
   "source": []
  }
 ],
 "metadata": {
  "kernelspec": {
   "display_name": "R",
   "language": "R",
   "name": "ir"
  },
  "language_info": {
   "codemirror_mode": "r",
   "file_extension": ".r",
   "mimetype": "text/x-r-source",
   "name": "R",
   "pygments_lexer": "r",
   "version": "4.3.0"
  }
 },
 "nbformat": 4,
 "nbformat_minor": 5
}
