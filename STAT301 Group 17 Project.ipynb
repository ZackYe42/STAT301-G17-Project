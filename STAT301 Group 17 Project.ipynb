{
 "cells": [
  {
   "cell_type": "markdown",
   "id": "7fc0f894",
   "metadata": {},
   "source": [
    "### Read data to local\n"
   ]
  },
  {
   "cell_type": "code",
   "execution_count": 1,
   "id": "0840a98b",
   "metadata": {},
   "outputs": [
    {
     "data": {
      "text/html": [
       "<table class=\"dataframe\">\n",
       "<caption>A data.frame: 6 × 8</caption>\n",
       "<thead>\n",
       "\t<tr><th></th><th scope=col>Amount</th><th scope=col>Severity</th><th scope=col>Age</th><th scope=col>Private.Attorney</th><th scope=col>Marital.Status</th><th scope=col>Specialty</th><th scope=col>Insurance</th><th scope=col>Gender</th></tr>\n",
       "\t<tr><th></th><th scope=col>&lt;int&gt;</th><th scope=col>&lt;int&gt;</th><th scope=col>&lt;int&gt;</th><th scope=col>&lt;int&gt;</th><th scope=col>&lt;int&gt;</th><th scope=col>&lt;chr&gt;</th><th scope=col>&lt;chr&gt;</th><th scope=col>&lt;chr&gt;</th></tr>\n",
       "</thead>\n",
       "<tbody>\n",
       "\t<tr><th scope=row>1</th><td> 57041</td><td>7</td><td>62</td><td>1</td><td>2</td><td>Family Practice  </td><td>Private          </td><td>Male  </td></tr>\n",
       "\t<tr><th scope=row>2</th><td>324976</td><td>6</td><td>38</td><td>1</td><td>2</td><td>OBGYN            </td><td>No Insurance     </td><td>Female</td></tr>\n",
       "\t<tr><th scope=row>3</th><td>135383</td><td>4</td><td>34</td><td>1</td><td>2</td><td>Cardiology       </td><td>Unknown          </td><td>Male  </td></tr>\n",
       "\t<tr><th scope=row>4</th><td>829742</td><td>7</td><td>42</td><td>1</td><td>1</td><td>Pediatrics       </td><td>No Insurance     </td><td>Female</td></tr>\n",
       "\t<tr><th scope=row>5</th><td>197675</td><td>3</td><td>60</td><td>0</td><td>2</td><td>OBGYN            </td><td>Medicare/Medicaid</td><td>Female</td></tr>\n",
       "\t<tr><th scope=row>6</th><td> 75368</td><td>9</td><td>71</td><td>1</td><td>2</td><td>Internal Medicine</td><td>Medicare/Medicaid</td><td>Female</td></tr>\n",
       "</tbody>\n",
       "</table>\n"
      ],
      "text/latex": [
       "A data.frame: 6 × 8\n",
       "\\begin{tabular}{r|llllllll}\n",
       "  & Amount & Severity & Age & Private.Attorney & Marital.Status & Specialty & Insurance & Gender\\\\\n",
       "  & <int> & <int> & <int> & <int> & <int> & <chr> & <chr> & <chr>\\\\\n",
       "\\hline\n",
       "\t1 &  57041 & 7 & 62 & 1 & 2 & Family Practice   & Private           & Male  \\\\\n",
       "\t2 & 324976 & 6 & 38 & 1 & 2 & OBGYN             & No Insurance      & Female\\\\\n",
       "\t3 & 135383 & 4 & 34 & 1 & 2 & Cardiology        & Unknown           & Male  \\\\\n",
       "\t4 & 829742 & 7 & 42 & 1 & 1 & Pediatrics        & No Insurance      & Female\\\\\n",
       "\t5 & 197675 & 3 & 60 & 0 & 2 & OBGYN             & Medicare/Medicaid & Female\\\\\n",
       "\t6 &  75368 & 9 & 71 & 1 & 2 & Internal Medicine & Medicare/Medicaid & Female\\\\\n",
       "\\end{tabular}\n"
      ],
      "text/markdown": [
       "\n",
       "A data.frame: 6 × 8\n",
       "\n",
       "| <!--/--> | Amount &lt;int&gt; | Severity &lt;int&gt; | Age &lt;int&gt; | Private.Attorney &lt;int&gt; | Marital.Status &lt;int&gt; | Specialty &lt;chr&gt; | Insurance &lt;chr&gt; | Gender &lt;chr&gt; |\n",
       "|---|---|---|---|---|---|---|---|---|\n",
       "| 1 |  57041 | 7 | 62 | 1 | 2 | Family Practice   | Private           | Male   |\n",
       "| 2 | 324976 | 6 | 38 | 1 | 2 | OBGYN             | No Insurance      | Female |\n",
       "| 3 | 135383 | 4 | 34 | 1 | 2 | Cardiology        | Unknown           | Male   |\n",
       "| 4 | 829742 | 7 | 42 | 1 | 1 | Pediatrics        | No Insurance      | Female |\n",
       "| 5 | 197675 | 3 | 60 | 0 | 2 | OBGYN             | Medicare/Medicaid | Female |\n",
       "| 6 |  75368 | 9 | 71 | 1 | 2 | Internal Medicine | Medicare/Medicaid | Female |\n",
       "\n"
      ],
      "text/plain": [
       "  Amount Severity Age Private.Attorney Marital.Status Specialty        \n",
       "1  57041 7        62  1                2              Family Practice  \n",
       "2 324976 6        38  1                2              OBGYN            \n",
       "3 135383 4        34  1                2              Cardiology       \n",
       "4 829742 7        42  1                1              Pediatrics       \n",
       "5 197675 3        60  0                2              OBGYN            \n",
       "6  75368 9        71  1                2              Internal Medicine\n",
       "  Insurance         Gender\n",
       "1 Private           Male  \n",
       "2 No Insurance      Female\n",
       "3 Unknown           Male  \n",
       "4 No Insurance      Female\n",
       "5 Medicare/Medicaid Female\n",
       "6 Medicare/Medicaid Female"
      ]
     },
     "metadata": {},
     "output_type": "display_data"
    }
   ],
   "source": [
    "ds <- read.csv(\"https://raw.githubusercontent.com/ZackYe42/STAT301-GroupProject/main/medicalmalpractice.csv\", header = T)\n",
    "head(ds)"
   ]
  },
  {
   "cell_type": "code",
   "execution_count": null,
   "id": "79bf3379",
   "metadata": {},
   "outputs": [],
   "source": []
  }
 ],
 "metadata": {
  "kernelspec": {
   "display_name": "R",
   "language": "R",
   "name": "ir"
  },
  "language_info": {
   "codemirror_mode": "r",
   "file_extension": ".r",
   "mimetype": "text/x-r-source",
   "name": "R",
   "pygments_lexer": "r",
   "version": "4.3.0"
  }
 },
 "nbformat": 4,
 "nbformat_minor": 5
}
