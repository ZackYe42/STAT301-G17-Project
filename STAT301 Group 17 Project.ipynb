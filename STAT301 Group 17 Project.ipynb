{
 "cells": [
  {
   "cell_type": "code",
   "execution_count": 16,
   "id": "5663989e",
   "metadata": {},
   "outputs": [
    {
     "name": "stderr",
     "output_type": "stream",
     "text": [
      "Warning message:\n",
      "\"package 'glmnet' was built under R version 4.3.1\"\n",
      "Loading required package: Matrix\n",
      "\n",
      "\n",
      "Attaching package: 'Matrix'\n",
      "\n",
      "\n",
      "The following objects are masked from 'package:tidyr':\n",
      "\n",
      "    expand, pack, unpack\n",
      "\n",
      "\n",
      "Loaded glmnet 4.1-8\n",
      "\n"
     ]
    }
   ],
   "source": [
    "# Library load\n",
    "library(tidyverse)\n",
    "library(tidymodels)\n",
    "library(\"GGally\")\n",
    "library(repr)\n",
    "library(leaps)\n",
    "library(psych)\n",
    "library(infer)\n",
    "library(leaps)\n",
    "library(glmnet)"
   ]
  },
  {
   "cell_type": "markdown",
   "id": "b1910f9f",
   "metadata": {},
   "source": [
    "# Code Part"
   ]
  },
  {
   "cell_type": "markdown",
   "id": "7eec7c7b",
   "metadata": {},
   "source": [
    "## Preprocess Data"
   ]
  },
  {
   "cell_type": "markdown",
   "id": "7fc0f894",
   "metadata": {},
   "source": [
    "### Read data to local\n"
   ]
  },
  {
   "cell_type": "code",
   "execution_count": 10,
   "id": "0840a98b",
   "metadata": {},
   "outputs": [
    {
     "data": {
      "text/html": [
       "<table class=\"dataframe\">\n",
       "<caption>A data.frame: 3 × 8</caption>\n",
       "<thead>\n",
       "\t<tr><th></th><th scope=col>Amount</th><th scope=col>Severity</th><th scope=col>Age</th><th scope=col>Private.Attorney</th><th scope=col>Marital.Status</th><th scope=col>Specialty</th><th scope=col>Insurance</th><th scope=col>Gender</th></tr>\n",
       "\t<tr><th></th><th scope=col>&lt;int&gt;</th><th scope=col>&lt;int&gt;</th><th scope=col>&lt;int&gt;</th><th scope=col>&lt;int&gt;</th><th scope=col>&lt;int&gt;</th><th scope=col>&lt;chr&gt;</th><th scope=col>&lt;chr&gt;</th><th scope=col>&lt;chr&gt;</th></tr>\n",
       "</thead>\n",
       "<tbody>\n",
       "\t<tr><th scope=row>1</th><td> 57041</td><td>7</td><td>62</td><td>1</td><td>2</td><td>Family Practice</td><td>Private     </td><td>Male  </td></tr>\n",
       "\t<tr><th scope=row>2</th><td>324976</td><td>6</td><td>38</td><td>1</td><td>2</td><td>OBGYN          </td><td>No Insurance</td><td>Female</td></tr>\n",
       "\t<tr><th scope=row>3</th><td>135383</td><td>4</td><td>34</td><td>1</td><td>2</td><td>Cardiology     </td><td>Unknown     </td><td>Male  </td></tr>\n",
       "</tbody>\n",
       "</table>\n"
      ],
      "text/latex": [
       "A data.frame: 3 × 8\n",
       "\\begin{tabular}{r|llllllll}\n",
       "  & Amount & Severity & Age & Private.Attorney & Marital.Status & Specialty & Insurance & Gender\\\\\n",
       "  & <int> & <int> & <int> & <int> & <int> & <chr> & <chr> & <chr>\\\\\n",
       "\\hline\n",
       "\t1 &  57041 & 7 & 62 & 1 & 2 & Family Practice & Private      & Male  \\\\\n",
       "\t2 & 324976 & 6 & 38 & 1 & 2 & OBGYN           & No Insurance & Female\\\\\n",
       "\t3 & 135383 & 4 & 34 & 1 & 2 & Cardiology      & Unknown      & Male  \\\\\n",
       "\\end{tabular}\n"
      ],
      "text/markdown": [
       "\n",
       "A data.frame: 3 × 8\n",
       "\n",
       "| <!--/--> | Amount &lt;int&gt; | Severity &lt;int&gt; | Age &lt;int&gt; | Private.Attorney &lt;int&gt; | Marital.Status &lt;int&gt; | Specialty &lt;chr&gt; | Insurance &lt;chr&gt; | Gender &lt;chr&gt; |\n",
       "|---|---|---|---|---|---|---|---|---|\n",
       "| 1 |  57041 | 7 | 62 | 1 | 2 | Family Practice | Private      | Male   |\n",
       "| 2 | 324976 | 6 | 38 | 1 | 2 | OBGYN           | No Insurance | Female |\n",
       "| 3 | 135383 | 4 | 34 | 1 | 2 | Cardiology      | Unknown      | Male   |\n",
       "\n"
      ],
      "text/plain": [
       "  Amount Severity Age Private.Attorney Marital.Status Specialty      \n",
       "1  57041 7        62  1                2              Family Practice\n",
       "2 324976 6        38  1                2              OBGYN          \n",
       "3 135383 4        34  1                2              Cardiology     \n",
       "  Insurance    Gender\n",
       "1 Private      Male  \n",
       "2 No Insurance Female\n",
       "3 Unknown      Male  "
      ]
     },
     "metadata": {},
     "output_type": "display_data"
    }
   ],
   "source": [
    "df <- read.csv(\"https://raw.githubusercontent.com/ZackYe42/STAT301-GroupProject/main/medicalmalpractice.csv\", header = T)\n",
    "head(df,3)"
   ]
  },
  {
   "cell_type": "markdown",
   "id": "744260f5",
   "metadata": {},
   "source": [
    "### Clean and Convert"
   ]
  },
  {
   "cell_type": "code",
   "execution_count": 11,
   "id": "dc25ffd1",
   "metadata": {},
   "outputs": [
    {
     "data": {
      "text/html": [
       "<table class=\"dataframe\">\n",
       "<caption>A data.frame: 3 × 7</caption>\n",
       "<thead>\n",
       "\t<tr><th></th><th scope=col>Amount</th><th scope=col>Severity</th><th scope=col>Age</th><th scope=col>Private.Attorney</th><th scope=col>Specialty</th><th scope=col>Gender</th><th scope=col>Insurance_Status</th></tr>\n",
       "\t<tr><th></th><th scope=col>&lt;int&gt;</th><th scope=col>&lt;int&gt;</th><th scope=col>&lt;int&gt;</th><th scope=col>&lt;int&gt;</th><th scope=col>&lt;fct&gt;</th><th scope=col>&lt;fct&gt;</th><th scope=col>&lt;fct&gt;</th></tr>\n",
       "</thead>\n",
       "<tbody>\n",
       "\t<tr><th scope=row>1</th><td> 57041</td><td>7</td><td>62</td><td>1</td><td>Primary Care        </td><td>Male  </td><td>With Insurance   </td></tr>\n",
       "\t<tr><th scope=row>2</th><td>324976</td><td>6</td><td>38</td><td>1</td><td>Surgical Specialties</td><td>Female</td><td>Without Insurance</td></tr>\n",
       "\t<tr><th scope=row>3</th><td>135383</td><td>4</td><td>34</td><td>1</td><td>Medical Specialties </td><td>Male  </td><td>Without Insurance</td></tr>\n",
       "</tbody>\n",
       "</table>\n"
      ],
      "text/latex": [
       "A data.frame: 3 × 7\n",
       "\\begin{tabular}{r|lllllll}\n",
       "  & Amount & Severity & Age & Private.Attorney & Specialty & Gender & Insurance\\_Status\\\\\n",
       "  & <int> & <int> & <int> & <int> & <fct> & <fct> & <fct>\\\\\n",
       "\\hline\n",
       "\t1 &  57041 & 7 & 62 & 1 & Primary Care         & Male   & With Insurance   \\\\\n",
       "\t2 & 324976 & 6 & 38 & 1 & Surgical Specialties & Female & Without Insurance\\\\\n",
       "\t3 & 135383 & 4 & 34 & 1 & Medical Specialties  & Male   & Without Insurance\\\\\n",
       "\\end{tabular}\n"
      ],
      "text/markdown": [
       "\n",
       "A data.frame: 3 × 7\n",
       "\n",
       "| <!--/--> | Amount &lt;int&gt; | Severity &lt;int&gt; | Age &lt;int&gt; | Private.Attorney &lt;int&gt; | Specialty &lt;fct&gt; | Gender &lt;fct&gt; | Insurance_Status &lt;fct&gt; |\n",
       "|---|---|---|---|---|---|---|---|\n",
       "| 1 |  57041 | 7 | 62 | 1 | Primary Care         | Male   | With Insurance    |\n",
       "| 2 | 324976 | 6 | 38 | 1 | Surgical Specialties | Female | Without Insurance |\n",
       "| 3 | 135383 | 4 | 34 | 1 | Medical Specialties  | Male   | Without Insurance |\n",
       "\n"
      ],
      "text/plain": [
       "  Amount Severity Age Private.Attorney Specialty            Gender\n",
       "1  57041 7        62  1                Primary Care         Male  \n",
       "2 324976 6        38  1                Surgical Specialties Female\n",
       "3 135383 4        34  1                Medical Specialties  Male  \n",
       "  Insurance_Status \n",
       "1 With Insurance   \n",
       "2 Without Insurance\n",
       "3 Without Insurance"
      ]
     },
     "metadata": {},
     "output_type": "display_data"
    }
   ],
   "source": [
    "df1 <- df %>%\n",
    "    select(-Marital.Status) %>% \n",
    "    mutate(\n",
    "        Specialty = case_when(\n",
    "        Specialty %in% c(\"Family Practice\", \"Internal Medicine\", \"Pediatrics\") ~ \"Primary Care\",\n",
    "        Specialty %in% c(\"General Surgery\", \"Orthopedic Surgery\", \"Thoracic Surgery\", \n",
    "                         \"Urological Surgery\", \"Plastic Surgeon\", \"OBGYN\") ~ \"Surgical Specialties\",\n",
    "        Specialty %in% c(\"Cardiology\", \"Dermatology\", \"Neurology/Neurosurgery\",\n",
    "                         \"Anesthesiology\", \"Pathology\", \"Radiology\") ~ \"Medical Specialties\",\n",
    "        Specialty %in% c(\"Emergency Medicine\", \"Occupational Medicine\") ~ \"Emergency and Occupational Health\",\n",
    "        TRUE ~ \"Other Specialties\"\n",
    "        )  \n",
    "    )  %>% \n",
    "    mutate(\n",
    "        Insurance_Status = ifelse(Insurance %in% c('Private','Medicare/Medicaid','Workers Compensation'),\n",
    "                                  'With Insurance',\n",
    "                                  'Without Insurance')\n",
    "        ) %>%\n",
    "    select(-Insurance)\n",
    "\n",
    "df1$Specialty  <- as.factor(df1$Specialty)\n",
    "df1$Insurance_Status <- as.factor(df1$Insurance_Status)\n",
    "df1$Gender <- as.factor(df1$Gender)\n",
    "\n",
    "head(ds1,3)"
   ]
  },
  {
   "cell_type": "markdown",
   "id": "e973d731",
   "metadata": {},
   "source": [
    "### Convert the category variable to dummy variable"
   ]
  },
  {
   "cell_type": "code",
   "execution_count": 12,
   "id": "45407fcc",
   "metadata": {},
   "outputs": [
    {
     "data": {
      "text/html": [
       "<table class=\"dataframe\">\n",
       "<caption>A data.frame: 6 × 11</caption>\n",
       "<thead>\n",
       "\t<tr><th></th><th scope=col>Amount</th><th scope=col>Severity</th><th scope=col>Age</th><th scope=col>Private.Attorney</th><th scope=col>SpecialtyEmergency.and.Occupational.Health</th><th scope=col>SpecialtyMedical.Specialties</th><th scope=col>SpecialtyOther.Specialties</th><th scope=col>SpecialtyPrimary.Care</th><th scope=col>SpecialtySurgical.Specialties</th><th scope=col>GenderMale</th><th scope=col>Insurance_StatusWithout.Insurance</th></tr>\n",
       "\t<tr><th></th><th scope=col>&lt;dbl&gt;</th><th scope=col>&lt;dbl&gt;</th><th scope=col>&lt;dbl&gt;</th><th scope=col>&lt;dbl&gt;</th><th scope=col>&lt;dbl&gt;</th><th scope=col>&lt;dbl&gt;</th><th scope=col>&lt;dbl&gt;</th><th scope=col>&lt;dbl&gt;</th><th scope=col>&lt;dbl&gt;</th><th scope=col>&lt;dbl&gt;</th><th scope=col>&lt;dbl&gt;</th></tr>\n",
       "</thead>\n",
       "<tbody>\n",
       "\t<tr><th scope=row>1</th><td> 57041</td><td>7</td><td>62</td><td>1</td><td>0</td><td>0</td><td>0</td><td>1</td><td>0</td><td>1</td><td>0</td></tr>\n",
       "\t<tr><th scope=row>2</th><td>324976</td><td>6</td><td>38</td><td>1</td><td>0</td><td>0</td><td>0</td><td>0</td><td>1</td><td>0</td><td>1</td></tr>\n",
       "\t<tr><th scope=row>3</th><td>135383</td><td>4</td><td>34</td><td>1</td><td>0</td><td>1</td><td>0</td><td>0</td><td>0</td><td>1</td><td>1</td></tr>\n",
       "\t<tr><th scope=row>4</th><td>829742</td><td>7</td><td>42</td><td>1</td><td>0</td><td>0</td><td>0</td><td>1</td><td>0</td><td>0</td><td>1</td></tr>\n",
       "\t<tr><th scope=row>5</th><td>197675</td><td>3</td><td>60</td><td>0</td><td>0</td><td>0</td><td>0</td><td>0</td><td>1</td><td>0</td><td>0</td></tr>\n",
       "\t<tr><th scope=row>6</th><td> 75368</td><td>9</td><td>71</td><td>1</td><td>0</td><td>0</td><td>0</td><td>1</td><td>0</td><td>0</td><td>0</td></tr>\n",
       "</tbody>\n",
       "</table>\n"
      ],
      "text/latex": [
       "A data.frame: 6 × 11\n",
       "\\begin{tabular}{r|lllllllllll}\n",
       "  & Amount & Severity & Age & Private.Attorney & SpecialtyEmergency.and.Occupational.Health & SpecialtyMedical.Specialties & SpecialtyOther.Specialties & SpecialtyPrimary.Care & SpecialtySurgical.Specialties & GenderMale & Insurance\\_StatusWithout.Insurance\\\\\n",
       "  & <dbl> & <dbl> & <dbl> & <dbl> & <dbl> & <dbl> & <dbl> & <dbl> & <dbl> & <dbl> & <dbl>\\\\\n",
       "\\hline\n",
       "\t1 &  57041 & 7 & 62 & 1 & 0 & 0 & 0 & 1 & 0 & 1 & 0\\\\\n",
       "\t2 & 324976 & 6 & 38 & 1 & 0 & 0 & 0 & 0 & 1 & 0 & 1\\\\\n",
       "\t3 & 135383 & 4 & 34 & 1 & 0 & 1 & 0 & 0 & 0 & 1 & 1\\\\\n",
       "\t4 & 829742 & 7 & 42 & 1 & 0 & 0 & 0 & 1 & 0 & 0 & 1\\\\\n",
       "\t5 & 197675 & 3 & 60 & 0 & 0 & 0 & 0 & 0 & 1 & 0 & 0\\\\\n",
       "\t6 &  75368 & 9 & 71 & 1 & 0 & 0 & 0 & 1 & 0 & 0 & 0\\\\\n",
       "\\end{tabular}\n"
      ],
      "text/markdown": [
       "\n",
       "A data.frame: 6 × 11\n",
       "\n",
       "| <!--/--> | Amount &lt;dbl&gt; | Severity &lt;dbl&gt; | Age &lt;dbl&gt; | Private.Attorney &lt;dbl&gt; | SpecialtyEmergency.and.Occupational.Health &lt;dbl&gt; | SpecialtyMedical.Specialties &lt;dbl&gt; | SpecialtyOther.Specialties &lt;dbl&gt; | SpecialtyPrimary.Care &lt;dbl&gt; | SpecialtySurgical.Specialties &lt;dbl&gt; | GenderMale &lt;dbl&gt; | Insurance_StatusWithout.Insurance &lt;dbl&gt; |\n",
       "|---|---|---|---|---|---|---|---|---|---|---|---|\n",
       "| 1 |  57041 | 7 | 62 | 1 | 0 | 0 | 0 | 1 | 0 | 1 | 0 |\n",
       "| 2 | 324976 | 6 | 38 | 1 | 0 | 0 | 0 | 0 | 1 | 0 | 1 |\n",
       "| 3 | 135383 | 4 | 34 | 1 | 0 | 1 | 0 | 0 | 0 | 1 | 1 |\n",
       "| 4 | 829742 | 7 | 42 | 1 | 0 | 0 | 0 | 1 | 0 | 0 | 1 |\n",
       "| 5 | 197675 | 3 | 60 | 0 | 0 | 0 | 0 | 0 | 1 | 0 | 0 |\n",
       "| 6 |  75368 | 9 | 71 | 1 | 0 | 0 | 0 | 1 | 0 | 0 | 0 |\n",
       "\n"
      ],
      "text/plain": [
       "  Amount Severity Age Private.Attorney\n",
       "1  57041 7        62  1               \n",
       "2 324976 6        38  1               \n",
       "3 135383 4        34  1               \n",
       "4 829742 7        42  1               \n",
       "5 197675 3        60  0               \n",
       "6  75368 9        71  1               \n",
       "  SpecialtyEmergency.and.Occupational.Health SpecialtyMedical.Specialties\n",
       "1 0                                          0                           \n",
       "2 0                                          0                           \n",
       "3 0                                          1                           \n",
       "4 0                                          0                           \n",
       "5 0                                          0                           \n",
       "6 0                                          0                           \n",
       "  SpecialtyOther.Specialties SpecialtyPrimary.Care\n",
       "1 0                          1                    \n",
       "2 0                          0                    \n",
       "3 0                          0                    \n",
       "4 0                          1                    \n",
       "5 0                          0                    \n",
       "6 0                          1                    \n",
       "  SpecialtySurgical.Specialties GenderMale Insurance_StatusWithout.Insurance\n",
       "1 0                             1          0                                \n",
       "2 1                             0          1                                \n",
       "3 0                             1          1                                \n",
       "4 0                             0          1                                \n",
       "5 1                             0          0                                \n",
       "6 0                             0          0                                "
      ]
     },
     "metadata": {},
     "output_type": "display_data"
    }
   ],
   "source": [
    "df1_dummy <- data.frame(model.matrix(~ . - 1, data = ds1))\n",
    "head(df1_dummy)"
   ]
  },
  {
   "cell_type": "markdown",
   "id": "0bca5b1a",
   "metadata": {},
   "source": [
    "### Split data to training and testing"
   ]
  },
  {
   "cell_type": "code",
   "execution_count": 14,
   "id": "1797e10d",
   "metadata": {},
   "outputs": [],
   "source": [
    "set.seed(42)\n",
    "\n",
    "df1_dummy_split <- initial_split(df1_dummy, prop = 0.7, strata = Amount)\n",
    "training_df <- training(df1_dummy_split)\n",
    "testing_df <- testing(df1_dummy_split)"
   ]
  },
  {
   "cell_type": "markdown",
   "id": "3262384b",
   "metadata": {},
   "source": [
    "## Visualization"
   ]
  },
  {
   "cell_type": "code",
   "execution_count": 8,
   "id": "34ad7e4e",
   "metadata": {},
   "outputs": [
    {
     "data": {
      "image/png": "[encoded data removed]",
      "text/plain": [
       "plot without title"
      ]
     },
     "metadata": {
      "image/png": {
       "height": 420,
       "width": 420
      }
     },
     "output_type": "display_data"
    }
   ],
   "source": [
    "pairs.panels(df1)"
   ]
  },
  {
   "cell_type": "code",
   "execution_count": 13,
   "id": "6ea7136c",
   "metadata": {},
   "outputs": [
    {
     "name": "stderr",
     "output_type": "stream",
     "text": [
      "\u001b[1m\u001b[22m`stat_bin()` using `bins = 30`. Pick better value with `binwidth`.\n",
      "\u001b[1m\u001b[22m`stat_bin()` using `bins = 30`. Pick better value with `binwidth`.\n",
      "\u001b[1m\u001b[22m`stat_bin()` using `bins = 30`. Pick better value with `binwidth`.\n",
      "\u001b[1m\u001b[22m`stat_bin()` using `bins = 30`. Pick better value with `binwidth`.\n",
      "\u001b[1m\u001b[22m`stat_bin()` using `bins = 30`. Pick better value with `binwidth`.\n",
      "\u001b[1m\u001b[22m`stat_bin()` using `bins = 30`. Pick better value with `binwidth`.\n",
      "\u001b[1m\u001b[22m`stat_bin()` using `bins = 30`. Pick better value with `binwidth`.\n",
      "\u001b[1m\u001b[22m`stat_bin()` using `bins = 30`. Pick better value with `binwidth`.\n",
      "\u001b[1m\u001b[22m`stat_bin()` using `bins = 30`. Pick better value with `binwidth`.\n",
      "\u001b[1m\u001b[22m`stat_bin()` using `bins = 30`. Pick better value with `binwidth`.\n",
      "\u001b[1m\u001b[22m`stat_bin()` using `bins = 30`. Pick better value with `binwidth`.\n",
      "\u001b[1m\u001b[22m`stat_bin()` using `bins = 30`. Pick better value with `binwidth`.\n"
     ]
    },
    {
     "data": {
      "image/png": "[encoded data removed]",
      "text/plain": [
       "plot without title"
      ]
     },
     "metadata": {
      "image/png": {
       "height": 420,
       "width": 420
      }
     },
     "output_type": "display_data"
    }
   ],
   "source": [
    "sample_claim_data_pairplots <- df1 %>%\n",
    "  ggpairs(progress = FALSE) +\n",
    "  theme(\n",
    "    text = element_text(size = 10),\n",
    "    plot.title = element_text(face = \"bold\"),\n",
    "    axis.title = element_text(face = \"bold\")\n",
    "  )\n",
    "sample_claim_data_pairplots"
   ]
  },
  {
   "cell_type": "markdown",
   "id": "ad7fcabc",
   "metadata": {},
   "source": [
    "## Method"
   ]
  },
  {
   "cell_type": "code",
   "execution_count": 17,
   "id": "2702f478",
   "metadata": {},
   "outputs": [
    {
     "data": {
      "text/plain": [
       "\n",
       "Call:  cv.glmnet(x = as.matrix(select(training_df, -Amount)), y = training_df$Amount,      alpha = 1) \n",
       "\n",
       "Measure: Mean-Squared Error \n",
       "\n",
       "    Lambda Index   Measure        SE Nonzero\n",
       "min    184    64 3.062e+10 258304625      10\n",
       "1se   5762    27 3.084e+10 281354087       8"
      ]
     },
     "metadata": {},
     "output_type": "display_data"
    }
   ],
   "source": [
    "# Use LASSO regression\n",
    "lasso_model <- cv.glmnet(x = as.matrix(select(training_df, -Amount)), \n",
    "                         y = training_df$Amount, \n",
    "                         alpha = 1) \n",
    "lasso_model"
   ]
  },
  {
   "cell_type": "code",
   "execution_count": 18,
   "id": "b6a564ba",
   "metadata": {},
   "outputs": [
    {
     "data": {
      "image/png": "[encoded data removed]",
      "text/plain": [
       "plot without title"
      ]
     },
     "metadata": {
      "image/png": {
       "height": 420,
       "width": 420
      }
     },
     "output_type": "display_data"
    }
   ],
   "source": [
    "plot(lasso_model)"
   ]
  },
  {
   "cell_type": "code",
   "execution_count": 19,
   "id": "995af60f",
   "metadata": {},
   "outputs": [
    {
     "data": {
      "text/plain": [
       "11 x 1 sparse Matrix of class \"dgCMatrix\"\n",
       "                                                    s1\n",
       "(Intercept)                                 46279.2574\n",
       "Severity                                    22922.9370\n",
       "Age                                          -488.7123\n",
       "Private.Attorney                            50947.5074\n",
       "SpecialtyEmergency.and.Occupational.Health      .     \n",
       "SpecialtyMedical.Specialties                 -122.8543\n",
       "SpecialtyOther.Specialties                 -37668.7101\n",
       "SpecialtyPrimary.Care                       21782.8138\n",
       "SpecialtySurgical.Specialties                   .     \n",
       "GenderMale                                  11599.9650\n",
       "Insurance_StatusWithout.Insurance          -45052.7607"
      ]
     },
     "metadata": {},
     "output_type": "display_data"
    }
   ],
   "source": [
    "# Identify the lambda value that gives the 1-standard error\n",
    "best_lasso_lambda <- lasso_model$lambda.1se\n",
    "\n",
    "# Extract the coefficients for the best lambda value\n",
    "beta_lasso <- coef(lasso_model, s = best_lasso_lambda)\n",
    "beta_lasso"
   ]
  },
  {
   "cell_type": "code",
   "execution_count": 31,
   "id": "fd71e4cb",
   "metadata": {},
   "outputs": [
    {
     "data": {
      "text/plain": [
       "\n",
       "Call:\n",
       "lm(formula = Amount ~ Severity + Age + Private.Attorney + GenderMale + \n",
       "    SpecialtyMedical.Specialties + SpecialtyOther.Specialties + \n",
       "    SpecialtyPrimary.Care + GenderMale + Insurance_StatusWithout.Insurance, \n",
       "    data = training_df)\n",
       "\n",
       "Residuals:\n",
       "    Min      1Q  Median      3Q     Max \n",
       "-348333 -101377  -37118   37654  841916 \n",
       "\n",
       "Coefficients:\n",
       "                                   Estimate Std. Error t value Pr(>|t|)    \n",
       "(Intercept)                        52160.80    2861.68   18.23  < 2e-16 ***\n",
       "Severity                           24491.18     374.82   65.34  < 2e-16 ***\n",
       "Age                                 -806.24      38.72  -20.82  < 2e-16 ***\n",
       "Private.Attorney                   54243.47    1709.12   31.74  < 2e-16 ***\n",
       "GenderMale                         29215.03    1623.69   17.99  < 2e-16 ***\n",
       "SpecialtyMedical.Specialties      -13722.79    1908.48   -7.19 6.54e-13 ***\n",
       "SpecialtyOther.Specialties        -58923.78    2951.43  -19.96  < 2e-16 ***\n",
       "SpecialtyPrimary.Care              25701.78    1928.87   13.32  < 2e-16 ***\n",
       "Insurance_StatusWithout.Insurance -57079.94    1579.26  -36.14  < 2e-16 ***\n",
       "---\n",
       "Signif. codes:  0 '***' 0.001 '**' 0.01 '*' 0.05 '.' 0.1 ' ' 1\n",
       "\n",
       "Residual standard error: 175000 on 55437 degrees of freedom\n",
       "Multiple R-squared:  0.181,\tAdjusted R-squared:  0.1809 \n",
       "F-statistic:  1532 on 8 and 55437 DF,  p-value: < 2.2e-16\n"
      ]
     },
     "metadata": {},
     "output_type": "display_data"
    }
   ],
   "source": [
    "inference_model <- lm(Amount ~ Severity + Age + Private.Attorney + GenderMale  + SpecialtyMedical.Specialties + \n",
    "                      SpecialtyOther.Specialties + SpecialtyPrimary.Care + GenderMale + Insurance_StatusWithout.Insurance,\n",
    "                      data = training_df)\n",
    "summary(inference_model)"
   ]
  },
  {
   "cell_type": "code",
   "execution_count": 49,
   "id": "9b0a87a1",
   "metadata": {},
   "outputs": [
    {
     "data": {
      "text/html": [
       "173810.510760718"
      ],
      "text/latex": [
       "173810.510760718"
      ],
      "text/markdown": [
       "173810.510760718"
      ],
      "text/plain": [
       "[1] 173810.5"
      ]
     },
     "metadata": {},
     "output_type": "display_data"
    }
   ],
   "source": [
    "# Predict on testing data\n",
    "est <- predict(inference_model,testing_df)\n",
    "\n",
    "# RMSE\n",
    "sqrt( mean((testing_df$Amount - est)^2))"
   ]
  },
  {
   "cell_type": "code",
   "execution_count": null,
   "id": "2136e2ad",
   "metadata": {},
   "outputs": [],
   "source": []
  }
 ],
 "metadata": {
  "kernelspec": {
   "display_name": "R",
   "language": "R",
   "name": "ir"
  },
  "language_info": {
   "codemirror_mode": "r",
   "file_extension": ".r",
   "mimetype": "text/x-r-source",
   "name": "R",
   "pygments_lexer": "r",
   "version": "4.3.0"
  }
 },
 "nbformat": 4,
 "nbformat_minor": 5
}
