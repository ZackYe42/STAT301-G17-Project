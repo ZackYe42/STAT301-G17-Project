version https://git-lfs.github.com/spec/v1
oid sha256:eed8a9ee1a08081a36a5a14df625dc5e5b5483a004de295bae4d6e9328508949
size 26826917
